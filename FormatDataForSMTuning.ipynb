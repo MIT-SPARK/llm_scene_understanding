{
 "cells": [
  {
   "cell_type": "code",
   "execution_count": 1,
   "id": "e1d99f89",
   "metadata": {},
   "outputs": [],
   "source": [
    "import torch_geometric\n",
    "import pickle\n",
    "from scene_graph import NodeType\n",
    "from torch_geometric.loader import DataLoader\n",
    "from load_matterport3d_dataset import Matterport3dDataset\n",
    "import torch.nn.functional as F\n",
    "from extract_labels import create_label_lists\n",
    "import torch\n",
    "from model_utils import get_category_index_map\n",
    "import matplotlib.pyplot as plt\n",
    "import numpy as np"
   ]
  },
  {
   "cell_type": "code",
   "execution_count": 17,
   "id": "58a3e907",
   "metadata": {},
   "outputs": [],
   "source": [
    "label_set = \"nyuClass\"\n",
    "dataset = Matterport3dDataset(f\"./mp_data/{label_set}_matterport3d_w_edge_502030.pkl\")\n",
    "dataloader = DataLoader(dataset, batch_size = len(dataset))\n",
    "batch = next(iter(dataloader))"
   ]
  },
  {
   "cell_type": "code",
   "execution_count": 18,
   "id": "aaef25b1",
   "metadata": {},
   "outputs": [],
   "source": [
    "labels, pl_labels = create_label_lists(dataset)\n",
    "building_list, room_list, object_list = labels\n",
    "building_list_pl, room_list_pl, object_list_pl = pl_labels\n",
    "\n",
    "label = (\n",
    "    batch.y[batch.building_mask],\n",
    "    batch.y[batch.room_mask],\n",
    "    batch.y[batch.object_mask],\n",
    ")\n",
    "y_object = F.one_hot(label[-1], len(object_list)).type(torch.LongTensor)\n",
    "\n",
    "# Each of these tensors is size [2, # edges of given type]. Name describes two nodes in each edge,\n",
    "# e.g. room_building means one is a room and other is building\n",
    "(room_building_edge_index, \\\n",
    "object_room_edge_index, \\\n",
    "room_edge_index,\\\n",
    "object_edge_index,) = (\\\n",
    "    batch.room_building_edge_index, \\\n",
    "    batch.object_room_edge_index, \\\n",
    "    batch.room_edge_index, \\\n",
    "    batch.object_edge_index,)\n",
    "# Integer tensor of size [# nodes], where each node is \n",
    "# given a unique number among the nodes of same type,\n",
    "# e.g. if nodes are of nodetype [B, B, R, O, R, O, B], \n",
    "# then returned tensor is [0, 1, 0, 0, 1, 1, 2]\n",
    "category_index_map = get_category_index_map(batch)\n",
    "\n",
    "x_object = batch.x[batch.object_mask]\n",
    "x_room = batch.x[batch.room_mask]"
   ]
  },
  {
   "cell_type": "code",
   "execution_count": 19,
   "id": "701cc9c8",
   "metadata": {},
   "outputs": [],
   "source": [
    "datasets = [\n",
    "    dataset.get_training_set(), \n",
    "    dataset.get_validation_set(), \n",
    "    dataset.get_test_set()\n",
    "]\n",
    "splits = [\"train\", \"validation\", \"test\"]\n",
    "formatted_data = {}\n",
    "ROUND_TO = 3\n",
    "num_objs = []\n",
    "\n",
    "for split_idx, ds in enumerate(datasets):\n",
    "    dataloader = DataLoader(ds, batch_size = len(ds))\n",
    "    batch = next(iter(dataloader))\n",
    "    \n",
    "    label = (\n",
    "        batch.y[batch.building_mask],\n",
    "        batch.y[batch.room_mask],\n",
    "        batch.y[batch.object_mask],\n",
    "    )\n",
    "    y_object = F.one_hot(label[-1], len(object_list)).type(torch.LongTensor)\n",
    "\n",
    "    # Each of these tensors is size [2, # edges of given type]. Name describes two nodes in each edge,\n",
    "    # e.g. room_building means one is a room and other is building\n",
    "    (room_building_edge_index, \\\n",
    "    object_room_edge_index, \\\n",
    "    room_edge_index,\\\n",
    "    object_edge_index,) = (\\\n",
    "        batch.room_building_edge_index, \\\n",
    "        batch.object_room_edge_index, \\\n",
    "        batch.room_edge_index, \\\n",
    "        batch.object_edge_index,)\n",
    "    # Integer tensor of size [# nodes], where each node is \n",
    "    # given a unique number among the nodes of same type,\n",
    "    # e.g. if nodes are of nodetype [B, B, R, O, R, O, B], \n",
    "    # then returned tensor is [0, 1, 0, 0, 1, 1, 2]\n",
    "    category_index_map = get_category_index_map(batch)\n",
    "\n",
    "    x_object = batch.x[batch.object_mask]\n",
    "    x_room = batch.x[batch.room_mask]\n",
    "    \n",
    "    descriptions, room_labels, room_index = [], [], []\n",
    "    \n",
    "    room_counts = {rm : 0 for rm in room_list}\n",
    "    obj_counts = {}\n",
    "    for i in range(len(label[1])):\n",
    "        mask = category_index_map[object_room_edge_index[1]] == i\n",
    "        neighbor_dists = y_object[category_index_map[object_room_edge_index[0][mask]]]\n",
    "        if len(neighbor_dists) >= 100 or room_list[label[1][i]]\\\n",
    "            in [\"None\", \"porch\", \"balcony\", \"yard\"]:\n",
    "            continue\n",
    "        neighbor_features = x_object[category_index_map[object_room_edge_index[0][mask]]][:, :6]\n",
    "        avg_obj_location = neighbor_features[:, :3].mean(dim=0)\n",
    "        x_r, y_r, z_r = x_room[i][3:6]\n",
    "        x_r, y_r, z_r = round(float(x_r), ROUND_TO), \\\n",
    "                        round(float(y_r), ROUND_TO), \\\n",
    "                        round(float(z_r), ROUND_TO)\n",
    "        description = f\"Room Size:\\nx {x_r}\\ny {y_r}\\nz {z_r}\\n\\nObject Locations:\"\n",
    "        \n",
    "        for j in range(len(neighbor_dists)):\n",
    "            x_o, y_o, z_o = neighbor_features[j][:3] - x_room[i][:3]\n",
    "            x_o, y_o, z_o = round(float(x_o), ROUND_TO), \\\n",
    "                            round(float(y_o), ROUND_TO), \\\n",
    "                            round(float(z_o), ROUND_TO)\n",
    "            description += f\"\\n{object_list[torch.nonzero(neighbor_dists[j])]}\"\n",
    "            description += f\"\\nx {x_o}\\ny {y_o}\\nz {z_o}\"\n",
    "            \n",
    "        descriptions.append(description)\n",
    "        room_labels.append(room_list[label[1][i]])\n",
    "        room_index.append(label[1][i])\n",
    "        num_objs.append(len(neighbor_dists))\n",
    "        \n",
    "        room_counts[room_list[label[1][i]]] += 1\n",
    "        \n",
    "    formatted_data[splits[split_idx]] = (descriptions, room_labels, room_index)\n",
    "    # print(room_counts)\n",
    "    # print(obj_counts)\n",
    "# TODO: Change filepath back to llm_finetuning directory, or move this nb to \n",
    "# original repo\n",
    "with open(f\"../vlm_scene_understanding/sm_data/{label_set}_sm_splits.pkl\", \"wb\") as f:\n",
    "    pickle.dump(formatted_data, f)\n"
   ]
  },
  {
   "cell_type": "code",
   "execution_count": 5,
   "id": "78b54277",
   "metadata": {},
   "outputs": [
    {
     "data": {
      "text/plain": [
       "(array([597., 626., 342., 176.,  89.,  42.,  11.,  10.,   3.,   1.]),\n",
       " array([ 0. ,  7.1, 14.2, 21.3, 28.4, 35.5, 42.6, 49.7, 56.8, 63.9, 71. ]),\n",
       " <BarContainer object of 10 artists>)"
      ]
     },
     "execution_count": 5,
     "metadata": {},
     "output_type": "execute_result"
    },
    {
     "data": {
      "image/png": "[encoded data removed]",
      "text/plain": [
       "<Figure size 432x288 with 1 Axes>"
      ]
     },
     "metadata": {
      "needs_background": "light"
     },
     "output_type": "display_data"
    }
   ],
   "source": []
  },
  {
   "cell_type": "code",
   "execution_count": 6,
   "id": "aefa866f",
   "metadata": {},
   "outputs": [
    {
     "name": "stdout",
     "output_type": "stream",
     "text": [
      "['None', 'balcony', 'bar', 'bathroom', 'bedroom', 'classroom', 'closet', 'conference auditorium', 'dining room', 'family room', 'game room', 'garage', 'gym', 'hallway', 'kitchen', 'laundry room', 'library', 'living room', 'lobby', 'lounge', 'office', 'porch', 'spa', 'staircase', 'television room', 'utility room', 'yard']\n"
     ]
    }
   ],
   "source": [
    "print(room_list)"
   ]
  },
  {
   "cell_type": "code",
   "execution_count": null,
   "id": "7db7cbf2",
   "metadata": {},
   "outputs": [],
   "source": []
  }
 ],
 "metadata": {
  "kernelspec": {
   "display_name": "sg-venv",
   "language": "python",
   "name": "sg-venv"
  },
  "language_info": {
   "codemirror_mode": {
    "name": "ipython",
    "version": 3
   },
   "file_extension": ".py",
   "mimetype": "text/x-python",
   "name": "python",
   "nbconvert_exporter": "python",
   "pygments_lexer": "ipython3",
   "version": "3.8.10"
  }
 },
 "nbformat": 4,
 "nbformat_minor": 5
}
